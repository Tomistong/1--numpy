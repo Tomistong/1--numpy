{
  "nbformat": 4,
  "nbformat_minor": 0,
  "metadata": {
    "colab": {
      "name": "「StringDS.ipynb」的副本",
      "provenance": [],
      "authorship_tag": "ABX9TyN/ML4FRVaSFvrCYgIJKazH",
      "include_colab_link": true
    },
    "kernelspec": {
      "name": "python3",
      "display_name": "Python 3"
    },
    "language_info": {
      "name": "python"
    }
  },
  "cells": [
    {
      "cell_type": "markdown",
      "metadata": {
        "id": "view-in-github",
        "colab_type": "text"
      },
      "source": [
        "<a href=\"https://colab.research.google.com/github/Tomistong/1--numpy/blob/master/%E3%80%8CStringDS_ipynb%E3%80%8D%E7%9A%84%E5%89%AF%E6%9C%AC.ipynb\" target=\"_parent\"><img src=\"https://colab.research.google.com/assets/colab-badge.svg\" alt=\"Open In Colab\"/></a>"
      ]
    },
    {
      "cell_type": "code",
      "execution_count": null,
      "metadata": {
        "colab": {
          "base_uri": "https://localhost:8080/"
        },
        "id": "NhimD-Ws3Nnx",
        "outputId": "e69e2f16-b681-4cda-d923-be0993123885"
      },
      "outputs": [
        {
          "output_type": "stream",
          "name": "stdout",
          "text": [
            "5 * 10 = 50\n"
          ]
        }
      ],
      "source": [
        "a, b = 5, 10\n",
        "print('%d * %d = %d' % (a, b, a * b))"
      ]
    },
    {
      "cell_type": "code",
      "source": [
        ""
      ],
      "metadata": {
        "id": "IUXhAquZ5mhG"
      },
      "execution_count": null,
      "outputs": []
    },
    {
      "cell_type": "markdown",
      "source": [
        "Python 3.6以后，格式化字符串还有更为简洁的书写方式，就是在字符串前加上字母f，我们可以使用下面的语法糖来简化的代码。"
      ],
      "metadata": {
        "id": "IBPP8ZFS4FNT"
      }
    },
    {
      "cell_type": "code",
      "source": [
        "a, b = 5, 10\n",
        "print(f'{a} * {b} = {a * b}')"
      ],
      "metadata": {
        "colab": {
          "base_uri": "https://localhost:8080/"
        },
        "id": "BBUHzqVs39q5",
        "outputId": "2cc56b06-4277-4e09-d35b-b0ea25e92087"
      },
      "execution_count": null,
      "outputs": [
        {
          "output_type": "stream",
          "name": "stdout",
          "text": [
            "5 * 10 = 50\n"
          ]
        }
      ]
    },
    {
      "cell_type": "code",
      "source": [
        "list1 = [1, 3, 5, 7, 100]\n",
        "print(list1) # [1, 3, 5, 7, 100]\n",
        "# 乘号表示列表元素的重复\n",
        "list2 = ['hello'] * 3\n",
        "print(list2) # ['hello', 'hello', 'hello']\n",
        "# 计算列表长度(元素个数)\n",
        "print(len(list1)) # 5"
      ],
      "metadata": {
        "colab": {
          "base_uri": "https://localhost:8080/"
        },
        "id": "5ISvoB6N5oqu",
        "outputId": "095cb7cd-6975-491a-c779-52fef5d11b91"
      },
      "execution_count": 1,
      "outputs": [
        {
          "output_type": "stream",
          "name": "stdout",
          "text": [
            "[1, 3, 5, 7, 100]\n",
            "['hello', 'hello', 'hello']\n",
            "5\n"
          ]
        }
      ]
    }
  ]
}